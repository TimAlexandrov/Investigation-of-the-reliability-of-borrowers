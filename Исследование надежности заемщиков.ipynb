{
 "cells": [
  {
   "cell_type": "markdown",
   "id": "2bd9e851-b361-456f-89c1-3cc5d2d14451",
   "metadata": {},
   "source": [
    "#  Проект \"Исследование надежности заемщиков\""
   ]
  },
  {
   "cell_type": "markdown",
   "id": "0931a5e5-5957-48de-b7ec-defa498def68",
   "metadata": {},
   "source": [
    "#### Описание проекта\n",
    "Заказчик — кредитный отдел банка. Нужно разобраться, влияет ли семейное положение и количество детей клиента на факт погашения кредита в срок. Входные данные от банка — статистика о платёжеспособности клиентов.\n",
    "Результаты исследования будут учтены при построении модели кредитного скоринга — специальной системы, которая оценивает способность потенциального заёмщика вернуть кредит банку."
   ]
  },
  {
   "cell_type": "markdown",
   "id": "3b7efcc6-bf77-4e1a-a68a-287216ba6bdd",
   "metadata": {},
   "source": [
    "## 1. Открываем таблицу и изучаем общую информацию о данных"
   ]
  },
  {
   "cell_type": "markdown",
   "id": "47ec9774-f539-4cd4-bf92-87512d645fe9",
   "metadata": {},
   "source": [
    "**Импортируем библиотеку pandas. Считаем данные из csv-файла в датафрейм и сохраняем в переменную `data`.**"
   ]
  },
  {
   "cell_type": "code",
   "execution_count": 8,
   "id": "ebf1874d-27fc-481f-b585-3c811b573b81",
   "metadata": {},
   "outputs": [],
   "source": [
    "import pandas as pd\n",
    "data = pd.read_csv('Downloads/data.csv')"
   ]
  },
  {
   "cell_type": "markdown",
   "id": "dcfe64a1-dff5-436b-a54f-b4205c72db40",
   "metadata": {},
   "source": [
    "**Выводим первые 20 строчек датафрейма `data` на экран**"
   ]
  },
  {
   "cell_type": "code",
   "execution_count": 12,
   "id": "41ed7170-3519-4e4b-84d5-6c62499b9ff4",
   "metadata": {},
   "outputs": [
    {
     "data": {
      "text/html": [
       "<div>\n",
       "<style scoped>\n",
       "    .dataframe tbody tr th:only-of-type {\n",
       "        vertical-align: middle;\n",
       "    }\n",
       "\n",
       "    .dataframe tbody tr th {\n",
       "        vertical-align: top;\n",
       "    }\n",
       "\n",
       "    .dataframe thead th {\n",
       "        text-align: right;\n",
       "    }\n",
       "</style>\n",
       "<table border=\"1\" class=\"dataframe\">\n",
       "  <thead>\n",
       "    <tr style=\"text-align: right;\">\n",
       "      <th></th>\n",
       "      <th>children</th>\n",
       "      <th>days_employed</th>\n",
       "      <th>dob_years</th>\n",
       "      <th>education</th>\n",
       "      <th>education_id</th>\n",
       "      <th>family_status</th>\n",
       "      <th>family_status_id</th>\n",
       "      <th>gender</th>\n",
       "      <th>income_type</th>\n",
       "      <th>debt</th>\n",
       "      <th>total_income</th>\n",
       "      <th>purpose</th>\n",
       "    </tr>\n",
       "  </thead>\n",
       "  <tbody>\n",
       "    <tr>\n",
       "      <th>0</th>\n",
       "      <td>1</td>\n",
       "      <td>-8437.673028</td>\n",
       "      <td>42</td>\n",
       "      <td>высшее</td>\n",
       "      <td>0</td>\n",
       "      <td>женат / замужем</td>\n",
       "      <td>0</td>\n",
       "      <td>F</td>\n",
       "      <td>сотрудник</td>\n",
       "      <td>0</td>\n",
       "      <td>253875.639453</td>\n",
       "      <td>покупка жилья</td>\n",
       "    </tr>\n",
       "    <tr>\n",
       "      <th>1</th>\n",
       "      <td>1</td>\n",
       "      <td>-4024.803754</td>\n",
       "      <td>36</td>\n",
       "      <td>среднее</td>\n",
       "      <td>1</td>\n",
       "      <td>женат / замужем</td>\n",
       "      <td>0</td>\n",
       "      <td>F</td>\n",
       "      <td>сотрудник</td>\n",
       "      <td>0</td>\n",
       "      <td>112080.014102</td>\n",
       "      <td>приобретение автомобиля</td>\n",
       "    </tr>\n",
       "    <tr>\n",
       "      <th>2</th>\n",
       "      <td>0</td>\n",
       "      <td>-5623.422610</td>\n",
       "      <td>33</td>\n",
       "      <td>Среднее</td>\n",
       "      <td>1</td>\n",
       "      <td>женат / замужем</td>\n",
       "      <td>0</td>\n",
       "      <td>M</td>\n",
       "      <td>сотрудник</td>\n",
       "      <td>0</td>\n",
       "      <td>145885.952297</td>\n",
       "      <td>покупка жилья</td>\n",
       "    </tr>\n",
       "    <tr>\n",
       "      <th>3</th>\n",
       "      <td>3</td>\n",
       "      <td>-4124.747207</td>\n",
       "      <td>32</td>\n",
       "      <td>среднее</td>\n",
       "      <td>1</td>\n",
       "      <td>женат / замужем</td>\n",
       "      <td>0</td>\n",
       "      <td>M</td>\n",
       "      <td>сотрудник</td>\n",
       "      <td>0</td>\n",
       "      <td>267628.550329</td>\n",
       "      <td>дополнительное образование</td>\n",
       "    </tr>\n",
       "    <tr>\n",
       "      <th>4</th>\n",
       "      <td>0</td>\n",
       "      <td>340266.072047</td>\n",
       "      <td>53</td>\n",
       "      <td>среднее</td>\n",
       "      <td>1</td>\n",
       "      <td>гражданский брак</td>\n",
       "      <td>1</td>\n",
       "      <td>F</td>\n",
       "      <td>пенсионер</td>\n",
       "      <td>0</td>\n",
       "      <td>158616.077870</td>\n",
       "      <td>сыграть свадьбу</td>\n",
       "    </tr>\n",
       "    <tr>\n",
       "      <th>5</th>\n",
       "      <td>0</td>\n",
       "      <td>-926.185831</td>\n",
       "      <td>27</td>\n",
       "      <td>высшее</td>\n",
       "      <td>0</td>\n",
       "      <td>гражданский брак</td>\n",
       "      <td>1</td>\n",
       "      <td>M</td>\n",
       "      <td>компаньон</td>\n",
       "      <td>0</td>\n",
       "      <td>255763.565419</td>\n",
       "      <td>покупка жилья</td>\n",
       "    </tr>\n",
       "    <tr>\n",
       "      <th>6</th>\n",
       "      <td>0</td>\n",
       "      <td>-2879.202052</td>\n",
       "      <td>43</td>\n",
       "      <td>высшее</td>\n",
       "      <td>0</td>\n",
       "      <td>женат / замужем</td>\n",
       "      <td>0</td>\n",
       "      <td>F</td>\n",
       "      <td>компаньон</td>\n",
       "      <td>0</td>\n",
       "      <td>240525.971920</td>\n",
       "      <td>операции с жильем</td>\n",
       "    </tr>\n",
       "    <tr>\n",
       "      <th>7</th>\n",
       "      <td>0</td>\n",
       "      <td>-152.779569</td>\n",
       "      <td>50</td>\n",
       "      <td>СРЕДНЕЕ</td>\n",
       "      <td>1</td>\n",
       "      <td>женат / замужем</td>\n",
       "      <td>0</td>\n",
       "      <td>M</td>\n",
       "      <td>сотрудник</td>\n",
       "      <td>0</td>\n",
       "      <td>135823.934197</td>\n",
       "      <td>образование</td>\n",
       "    </tr>\n",
       "    <tr>\n",
       "      <th>8</th>\n",
       "      <td>2</td>\n",
       "      <td>-6929.865299</td>\n",
       "      <td>35</td>\n",
       "      <td>ВЫСШЕЕ</td>\n",
       "      <td>0</td>\n",
       "      <td>гражданский брак</td>\n",
       "      <td>1</td>\n",
       "      <td>F</td>\n",
       "      <td>сотрудник</td>\n",
       "      <td>0</td>\n",
       "      <td>95856.832424</td>\n",
       "      <td>на проведение свадьбы</td>\n",
       "    </tr>\n",
       "    <tr>\n",
       "      <th>9</th>\n",
       "      <td>0</td>\n",
       "      <td>-2188.756445</td>\n",
       "      <td>41</td>\n",
       "      <td>среднее</td>\n",
       "      <td>1</td>\n",
       "      <td>женат / замужем</td>\n",
       "      <td>0</td>\n",
       "      <td>M</td>\n",
       "      <td>сотрудник</td>\n",
       "      <td>0</td>\n",
       "      <td>144425.938277</td>\n",
       "      <td>покупка жилья для семьи</td>\n",
       "    </tr>\n",
       "    <tr>\n",
       "      <th>10</th>\n",
       "      <td>2</td>\n",
       "      <td>-4171.483647</td>\n",
       "      <td>36</td>\n",
       "      <td>высшее</td>\n",
       "      <td>0</td>\n",
       "      <td>женат / замужем</td>\n",
       "      <td>0</td>\n",
       "      <td>M</td>\n",
       "      <td>компаньон</td>\n",
       "      <td>0</td>\n",
       "      <td>113943.491460</td>\n",
       "      <td>покупка недвижимости</td>\n",
       "    </tr>\n",
       "    <tr>\n",
       "      <th>11</th>\n",
       "      <td>0</td>\n",
       "      <td>-792.701887</td>\n",
       "      <td>40</td>\n",
       "      <td>среднее</td>\n",
       "      <td>1</td>\n",
       "      <td>женат / замужем</td>\n",
       "      <td>0</td>\n",
       "      <td>F</td>\n",
       "      <td>сотрудник</td>\n",
       "      <td>0</td>\n",
       "      <td>77069.234271</td>\n",
       "      <td>покупка коммерческой недвижимости</td>\n",
       "    </tr>\n",
       "    <tr>\n",
       "      <th>12</th>\n",
       "      <td>0</td>\n",
       "      <td>NaN</td>\n",
       "      <td>65</td>\n",
       "      <td>среднее</td>\n",
       "      <td>1</td>\n",
       "      <td>гражданский брак</td>\n",
       "      <td>1</td>\n",
       "      <td>M</td>\n",
       "      <td>пенсионер</td>\n",
       "      <td>0</td>\n",
       "      <td>NaN</td>\n",
       "      <td>сыграть свадьбу</td>\n",
       "    </tr>\n",
       "    <tr>\n",
       "      <th>13</th>\n",
       "      <td>0</td>\n",
       "      <td>-1846.641941</td>\n",
       "      <td>54</td>\n",
       "      <td>неоконченное высшее</td>\n",
       "      <td>2</td>\n",
       "      <td>женат / замужем</td>\n",
       "      <td>0</td>\n",
       "      <td>F</td>\n",
       "      <td>сотрудник</td>\n",
       "      <td>0</td>\n",
       "      <td>130458.228857</td>\n",
       "      <td>приобретение автомобиля</td>\n",
       "    </tr>\n",
       "    <tr>\n",
       "      <th>14</th>\n",
       "      <td>0</td>\n",
       "      <td>-1844.956182</td>\n",
       "      <td>56</td>\n",
       "      <td>высшее</td>\n",
       "      <td>0</td>\n",
       "      <td>гражданский брак</td>\n",
       "      <td>1</td>\n",
       "      <td>F</td>\n",
       "      <td>компаньон</td>\n",
       "      <td>1</td>\n",
       "      <td>165127.911772</td>\n",
       "      <td>покупка жилой недвижимости</td>\n",
       "    </tr>\n",
       "    <tr>\n",
       "      <th>15</th>\n",
       "      <td>1</td>\n",
       "      <td>-972.364419</td>\n",
       "      <td>26</td>\n",
       "      <td>среднее</td>\n",
       "      <td>1</td>\n",
       "      <td>женат / замужем</td>\n",
       "      <td>0</td>\n",
       "      <td>F</td>\n",
       "      <td>сотрудник</td>\n",
       "      <td>0</td>\n",
       "      <td>116820.904450</td>\n",
       "      <td>строительство собственной недвижимости</td>\n",
       "    </tr>\n",
       "    <tr>\n",
       "      <th>16</th>\n",
       "      <td>0</td>\n",
       "      <td>-1719.934226</td>\n",
       "      <td>35</td>\n",
       "      <td>среднее</td>\n",
       "      <td>1</td>\n",
       "      <td>женат / замужем</td>\n",
       "      <td>0</td>\n",
       "      <td>F</td>\n",
       "      <td>сотрудник</td>\n",
       "      <td>0</td>\n",
       "      <td>289202.704229</td>\n",
       "      <td>недвижимость</td>\n",
       "    </tr>\n",
       "    <tr>\n",
       "      <th>17</th>\n",
       "      <td>0</td>\n",
       "      <td>-2369.999720</td>\n",
       "      <td>33</td>\n",
       "      <td>высшее</td>\n",
       "      <td>0</td>\n",
       "      <td>гражданский брак</td>\n",
       "      <td>1</td>\n",
       "      <td>M</td>\n",
       "      <td>сотрудник</td>\n",
       "      <td>0</td>\n",
       "      <td>90410.586745</td>\n",
       "      <td>строительство недвижимости</td>\n",
       "    </tr>\n",
       "    <tr>\n",
       "      <th>18</th>\n",
       "      <td>0</td>\n",
       "      <td>400281.136913</td>\n",
       "      <td>53</td>\n",
       "      <td>среднее</td>\n",
       "      <td>1</td>\n",
       "      <td>вдовец / вдова</td>\n",
       "      <td>2</td>\n",
       "      <td>F</td>\n",
       "      <td>пенсионер</td>\n",
       "      <td>0</td>\n",
       "      <td>56823.777243</td>\n",
       "      <td>на покупку подержанного автомобиля</td>\n",
       "    </tr>\n",
       "    <tr>\n",
       "      <th>19</th>\n",
       "      <td>0</td>\n",
       "      <td>-10038.818549</td>\n",
       "      <td>48</td>\n",
       "      <td>СРЕДНЕЕ</td>\n",
       "      <td>1</td>\n",
       "      <td>в разводе</td>\n",
       "      <td>3</td>\n",
       "      <td>F</td>\n",
       "      <td>сотрудник</td>\n",
       "      <td>0</td>\n",
       "      <td>242831.107982</td>\n",
       "      <td>на покупку своего автомобиля</td>\n",
       "    </tr>\n",
       "  </tbody>\n",
       "</table>\n",
       "</div>"
      ],
      "text/plain": [
       "    children  days_employed  dob_years            education  education_id  \\\n",
       "0          1   -8437.673028         42               высшее             0   \n",
       "1          1   -4024.803754         36              среднее             1   \n",
       "2          0   -5623.422610         33              Среднее             1   \n",
       "3          3   -4124.747207         32              среднее             1   \n",
       "4          0  340266.072047         53              среднее             1   \n",
       "5          0    -926.185831         27               высшее             0   \n",
       "6          0   -2879.202052         43               высшее             0   \n",
       "7          0    -152.779569         50              СРЕДНЕЕ             1   \n",
       "8          2   -6929.865299         35               ВЫСШЕЕ             0   \n",
       "9          0   -2188.756445         41              среднее             1   \n",
       "10         2   -4171.483647         36               высшее             0   \n",
       "11         0    -792.701887         40              среднее             1   \n",
       "12         0            NaN         65              среднее             1   \n",
       "13         0   -1846.641941         54  неоконченное высшее             2   \n",
       "14         0   -1844.956182         56               высшее             0   \n",
       "15         1    -972.364419         26              среднее             1   \n",
       "16         0   -1719.934226         35              среднее             1   \n",
       "17         0   -2369.999720         33               высшее             0   \n",
       "18         0  400281.136913         53              среднее             1   \n",
       "19         0  -10038.818549         48              СРЕДНЕЕ             1   \n",
       "\n",
       "       family_status  family_status_id gender income_type  debt  \\\n",
       "0    женат / замужем                 0      F   сотрудник     0   \n",
       "1    женат / замужем                 0      F   сотрудник     0   \n",
       "2    женат / замужем                 0      M   сотрудник     0   \n",
       "3    женат / замужем                 0      M   сотрудник     0   \n",
       "4   гражданский брак                 1      F   пенсионер     0   \n",
       "5   гражданский брак                 1      M   компаньон     0   \n",
       "6    женат / замужем                 0      F   компаньон     0   \n",
       "7    женат / замужем                 0      M   сотрудник     0   \n",
       "8   гражданский брак                 1      F   сотрудник     0   \n",
       "9    женат / замужем                 0      M   сотрудник     0   \n",
       "10   женат / замужем                 0      M   компаньон     0   \n",
       "11   женат / замужем                 0      F   сотрудник     0   \n",
       "12  гражданский брак                 1      M   пенсионер     0   \n",
       "13   женат / замужем                 0      F   сотрудник     0   \n",
       "14  гражданский брак                 1      F   компаньон     1   \n",
       "15   женат / замужем                 0      F   сотрудник     0   \n",
       "16   женат / замужем                 0      F   сотрудник     0   \n",
       "17  гражданский брак                 1      M   сотрудник     0   \n",
       "18    вдовец / вдова                 2      F   пенсионер     0   \n",
       "19         в разводе                 3      F   сотрудник     0   \n",
       "\n",
       "     total_income                                 purpose  \n",
       "0   253875.639453                           покупка жилья  \n",
       "1   112080.014102                 приобретение автомобиля  \n",
       "2   145885.952297                           покупка жилья  \n",
       "3   267628.550329              дополнительное образование  \n",
       "4   158616.077870                         сыграть свадьбу  \n",
       "5   255763.565419                           покупка жилья  \n",
       "6   240525.971920                       операции с жильем  \n",
       "7   135823.934197                             образование  \n",
       "8    95856.832424                   на проведение свадьбы  \n",
       "9   144425.938277                 покупка жилья для семьи  \n",
       "10  113943.491460                    покупка недвижимости  \n",
       "11   77069.234271       покупка коммерческой недвижимости  \n",
       "12            NaN                         сыграть свадьбу  \n",
       "13  130458.228857                 приобретение автомобиля  \n",
       "14  165127.911772              покупка жилой недвижимости  \n",
       "15  116820.904450  строительство собственной недвижимости  \n",
       "16  289202.704229                            недвижимость  \n",
       "17   90410.586745              строительство недвижимости  \n",
       "18   56823.777243      на покупку подержанного автомобиля  \n",
       "19  242831.107982            на покупку своего автомобиля  "
      ]
     },
     "execution_count": 12,
     "metadata": {},
     "output_type": "execute_result"
    }
   ],
   "source": [
    "data.head(20)"
   ]
  },
  {
   "cell_type": "markdown",
   "id": "a81761de-774a-46d9-b884-be4b07b4ca72",
   "metadata": {},
   "source": [
    "**Выводим основную информацию о датафрейме с помощью метода `info()**"
   ]
  },
  {
   "cell_type": "code",
   "execution_count": 13,
   "id": "32de6c10-9b86-4147-96e3-2ab26ffd2dde",
   "metadata": {},
   "outputs": [
    {
     "name": "stdout",
     "output_type": "stream",
     "text": [
      "<class 'pandas.core.frame.DataFrame'>\n",
      "RangeIndex: 21525 entries, 0 to 21524\n",
      "Data columns (total 12 columns):\n",
      " #   Column            Non-Null Count  Dtype  \n",
      "---  ------            --------------  -----  \n",
      " 0   children          21525 non-null  int64  \n",
      " 1   days_employed     19351 non-null  float64\n",
      " 2   dob_years         21525 non-null  int64  \n",
      " 3   education         21525 non-null  object \n",
      " 4   education_id      21525 non-null  int64  \n",
      " 5   family_status     21525 non-null  object \n",
      " 6   family_status_id  21525 non-null  int64  \n",
      " 7   gender            21525 non-null  object \n",
      " 8   income_type       21525 non-null  object \n",
      " 9   debt              21525 non-null  int64  \n",
      " 10  total_income      19351 non-null  float64\n",
      " 11  purpose           21525 non-null  object \n",
      "dtypes: float64(2), int64(5), object(5)\n",
      "memory usage: 2.0+ MB\n"
     ]
    }
   ],
   "source": [
    "data.info()"
   ]
  },
  {
   "cell_type": "markdown",
   "id": "445efaf1-3b40-4d6c-8fc7-374596f21fc6",
   "metadata": {},
   "source": [
    "## 2. Предобработка данных"
   ]
  },
  {
   "cell_type": "markdown",
   "id": "287322ee-d8de-405a-84ee-f2a918c353ae",
   "metadata": {},
   "source": [
    "### 2.1. Удаление пропусков"
   ]
  },
  {
   "cell_type": "markdown",
   "id": "3c1c3827-22de-408b-900a-6db90752e7a1",
   "metadata": {},
   "source": [
    "**Выводим количество пропущенных значений для каждого столбца, используя комбинацию двух методов isna, sum**"
   ]
  },
  {
   "cell_type": "code",
   "execution_count": 14,
   "id": "2983eb27-4330-4c0b-9726-ffe9ec1d69ee",
   "metadata": {},
   "outputs": [
    {
     "data": {
      "text/plain": [
       "children               0\n",
       "days_employed       2174\n",
       "dob_years              0\n",
       "education              0\n",
       "education_id           0\n",
       "family_status          0\n",
       "family_status_id       0\n",
       "gender                 0\n",
       "income_type            0\n",
       "debt                   0\n",
       "total_income        2174\n",
       "purpose                0\n",
       "dtype: int64"
      ]
     },
     "execution_count": 14,
     "metadata": {},
     "output_type": "execute_result"
    }
   ],
   "source": [
    "data.isna().sum()"
   ]
  },
  {
   "cell_type": "markdown",
   "id": "9068c78f-68b0-4b96-8397-4409be25bdb5",
   "metadata": {},
   "source": [
    "**В двух столбцах есть пропущенные значения. Один из них — `days_employed`. Пропуски в этом столбце обработаем на следующем этапе. Другой столбец с пропущенными значениями — `total_income` — хранит данные о доходах. На сумму дохода сильнее всего влияет тип занятости, поэтому заполнить пропуски в этом столбце нужно медианным значением по каждому типу из столбца `income_type`. Например, у человека с типом занятости `сотрудник` пропуск в столбце `total_income` должен быть заполнен медианным доходом среди всех записей с тем же типом**"
   ]
  },
  {
   "cell_type": "code",
   "execution_count": 15,
   "id": "cea75d27-bbab-4e48-984c-0508cea5d01d",
   "metadata": {},
   "outputs": [],
   "source": [
    "for t in data['income_type'].unique():\n",
    "    data.loc[(data['income_type'] == t) & (data['total_income'].isna()), 'total_income'] = \\\n",
    "    data.loc[(data['income_type'] == t), 'total_income'].median()"
   ]
  },
  {
   "cell_type": "markdown",
   "id": "649ae01c-cc6d-4073-9912-c91cbba57f0c",
   "metadata": {},
   "source": [
    "### 2.2. Обработка аномальных значений"
   ]
  },
  {
   "cell_type": "markdown",
   "id": "e86b3ffe-e502-4c0e-b0cb-608b9d9ab207",
   "metadata": {},
   "source": [
    "**В данных могут встречаться артефакты (аномалии) — значения, которые не отражают действительность и появились по какой-то ошибке. таким артефактом будет отрицательное количество дней трудового стажа в столбце `days_employed`. Для реальных данных это нормально. Обработаем значения в этом столбце: заменим все отрицательные значения положительными с помощью метода `abs()`**"
   ]
  },
  {
   "cell_type": "code",
   "execution_count": 16,
   "id": "fb22af18-316e-43dd-9167-987ab91dd95d",
   "metadata": {},
   "outputs": [],
   "source": [
    "data['days_employed'] = data['days_employed'].abs()"
   ]
  },
  {
   "cell_type": "markdown",
   "id": "6809d8c1-52e5-4589-a742-a220e66ac333",
   "metadata": {},
   "source": [
    "**Для каждого типа занятости выведем медианное значение трудового стажа `days_employed` в днях**"
   ]
  },
  {
   "cell_type": "code",
   "execution_count": 17,
   "id": "72e7fa8d-1e9a-4b74-b198-6f098c0e163e",
   "metadata": {},
   "outputs": [
    {
     "data": {
      "text/plain": [
       "income_type\n",
       "безработный        366413.652744\n",
       "в декрете            3296.759962\n",
       "госслужащий          2689.368353\n",
       "компаньон            1547.382223\n",
       "пенсионер          365213.306266\n",
       "предприниматель       520.848083\n",
       "сотрудник            1574.202821\n",
       "студент               578.751554\n",
       "Name: days_employed, dtype: float64"
      ]
     },
     "execution_count": 17,
     "metadata": {},
     "output_type": "execute_result"
    }
   ],
   "source": [
    "data.groupby('income_type')['days_employed'].agg('median')"
   ]
  },
  {
   "cell_type": "markdown",
   "id": "be98f3f2-6c57-41f8-8dc0-e0fed3cf2564",
   "metadata": {},
   "source": [
    "У двух типов (безработные и пенсионеры) получатся аномально большие значения. Исправить такие значения сложно, поэтому оставьте их как есть."
   ]
  },
  {
   "cell_type": "markdown",
   "id": "065de0a0-cad5-456f-b41f-d4dc88dfdeda",
   "metadata": {},
   "source": [
    "**Выведем перечень уникальных значений столбца `children`**"
   ]
  },
  {
   "cell_type": "code",
   "execution_count": 18,
   "id": "1a7bfdd4-a49f-4558-9acb-47d12040ccfa",
   "metadata": {},
   "outputs": [
    {
     "data": {
      "text/plain": [
       "array([ 1,  0,  3,  2, -1,  4, 20,  5], dtype=int64)"
      ]
     },
     "execution_count": 18,
     "metadata": {},
     "output_type": "execute_result"
    }
   ],
   "source": [
    "data['children'].unique()"
   ]
  },
  {
   "cell_type": "markdown",
   "id": "63911c56-282a-49ca-a6f2-abc2b4c8c505",
   "metadata": {},
   "source": [
    "**В столбце `children` есть два аномальных значения. Удалим строки, в которых встречаются такие аномальные значения из датафрейма `data`**"
   ]
  },
  {
   "cell_type": "code",
   "execution_count": 20,
   "id": "90fd0c6b-47c7-43ef-8507-a8c92e32abbc",
   "metadata": {},
   "outputs": [],
   "source": [
    "data = data[(data['children'] != -1) & (data['children'] != 20)]"
   ]
  },
  {
   "cell_type": "markdown",
   "id": "706e0c14-7435-4284-88c5-2d501f72cc1c",
   "metadata": {},
   "source": [
    "**Ещё раз выведем перечень уникальных значений столбца `children`, чтобы убедиться, что артефакты удалены**"
   ]
  },
  {
   "cell_type": "code",
   "execution_count": 21,
   "id": "f653d4a0-57ba-4e8a-b6e8-2673b031ece1",
   "metadata": {},
   "outputs": [
    {
     "data": {
      "text/plain": [
       "array([1, 0, 3, 2, 4, 5], dtype=int64)"
      ]
     },
     "execution_count": 21,
     "metadata": {},
     "output_type": "execute_result"
    }
   ],
   "source": [
    "data['children'].unique()"
   ]
  },
  {
   "cell_type": "markdown",
   "id": "a61c2b19-e5c7-4930-aa6d-682e8c2869e5",
   "metadata": {},
   "source": [
    "### 2.3. Удаление пропусков (продолжение)"
   ]
  },
  {
   "cell_type": "markdown",
   "id": "397949b0-a167-4b5d-9cea-bd13c8f253aa",
   "metadata": {},
   "source": [
    "**Заполняем пропуски в столбце `days_employed` медианными значениями по каждого типа занятости `income_type`.**"
   ]
  },
  {
   "cell_type": "code",
   "execution_count": 23,
   "id": "9a2009d0-79c3-47e4-aa55-dad062ecb2d4",
   "metadata": {},
   "outputs": [],
   "source": [
    "for t in data['income_type'].unique():\n",
    "    data.loc[(data['income_type'] == t) & (data['days_employed'].isna()), 'days_employed'] = \\\n",
    "    data.loc[(data['income_type'] == t), 'days_employed'].median()"
   ]
  },
  {
   "cell_type": "markdown",
   "id": "a2743b8f-11b6-4cec-9962-142756a9a129",
   "metadata": {},
   "source": [
    "Убедимся, что все пропуски заполнены. Ещё раз выведем количество пропущенных значений для каждого столбца.**"
   ]
  },
  {
   "cell_type": "code",
   "execution_count": 24,
   "id": "5481249e-08e9-4920-9f28-627268b8ee92",
   "metadata": {},
   "outputs": [
    {
     "data": {
      "text/plain": [
       "children            0\n",
       "days_employed       0\n",
       "dob_years           0\n",
       "education           0\n",
       "education_id        0\n",
       "family_status       0\n",
       "family_status_id    0\n",
       "gender              0\n",
       "income_type         0\n",
       "debt                0\n",
       "total_income        0\n",
       "purpose             0\n",
       "dtype: int64"
      ]
     },
     "execution_count": 24,
     "metadata": {},
     "output_type": "execute_result"
    }
   ],
   "source": [
    "data.isna().sum()"
   ]
  },
  {
   "cell_type": "markdown",
   "id": "e21b4801-977b-4125-a6a0-03ffb12a4385",
   "metadata": {},
   "source": [
    "### 2.4. Изменение типов данных"
   ]
  },
  {
   "cell_type": "markdown",
   "id": "7e8fdbd6-e989-49d9-91dd-5e734d21ea89",
   "metadata": {},
   "source": [
    "**Заменим вещественный тип данных в столбце `total_income` на целочисленный с помощью метода `astype()`.**"
   ]
  },
  {
   "cell_type": "code",
   "execution_count": 25,
   "id": "fc2c7138-a261-4a4f-a667-2f8f36a5cb76",
   "metadata": {},
   "outputs": [],
   "source": [
    "data['total_income'] = data['total_income'].astype(int)"
   ]
  },
  {
   "cell_type": "markdown",
   "id": "d10f73d3-640a-410f-8106-b3c032d1f9c0",
   "metadata": {},
   "source": [
    "### 2.5. Обработка дубликатов"
   ]
  },
  {
   "cell_type": "markdown",
   "id": "2264ddff-42aa-4c97-9704-6d291c71145c",
   "metadata": {},
   "source": [
    "**Обработаем неявные дубликаты в столбце `education`. В этом столбце есть одни и те же значения, но записанные по-разному: с использованием заглавных и строчных букв. Приведем их к нижнему регистру.**"
   ]
  },
  {
   "cell_type": "code",
   "execution_count": 26,
   "id": "2b5db0b6-677c-47d7-954a-021cd88aacd7",
   "metadata": {},
   "outputs": [],
   "source": [
    "data['education'] = data['education'].str.lower()"
   ]
  },
  {
   "cell_type": "markdown",
   "id": "18401124-aba1-4586-a297-cb41025e9d8f",
   "metadata": {},
   "source": [
    "**Выведем на экран количество строк-дубликатов в данных. Если такие строки присутствуют, удалим их.**"
   ]
  },
  {
   "cell_type": "code",
   "execution_count": 27,
   "id": "277a1108-6dc3-440d-9649-2ff444630f32",
   "metadata": {},
   "outputs": [
    {
     "data": {
      "text/plain": [
       "71"
      ]
     },
     "execution_count": 27,
     "metadata": {},
     "output_type": "execute_result"
    }
   ],
   "source": [
    "data.duplicated().sum()"
   ]
  },
  {
   "cell_type": "code",
   "execution_count": 28,
   "id": "e4008885-9945-4690-af52-e10f56ffc6d8",
   "metadata": {},
   "outputs": [],
   "source": [
    "data = data.drop_duplicates()"
   ]
  },
  {
   "cell_type": "markdown",
   "id": "defca288-55e3-46b3-931f-b029670b4683",
   "metadata": {},
   "source": [
    "### 2.6. Категоризация данных"
   ]
  },
  {
   "cell_type": "markdown",
   "id": "abc5e7be-220f-492b-bc63-3a663933be2d",
   "metadata": {},
   "source": [
    "** На основании диапазонов, указанных ниже, создадим в датафрейме `data` столбец `total_income_category` с категориями:**\n",
    "\n",
    "- 0–30000 — `'E'`;\n",
    "- 30001–50000 — `'D'`;\n",
    "- 50001–200000 — `'C'`;\n",
    "- 200001–1000000 — `'B'`;\n",
    "- 1000001 и выше — `'A'`.\n",
    "\n",
    "\n",
    "**Например, кредитополучателю с доходом 25000 нужно назначить категорию `'E'`, а клиенту, получающему 235000, — `'B'`. Используем собственную функцию с именем `categorize_income()` и метод `apply()`.**"
   ]
  },
  {
   "cell_type": "code",
   "execution_count": 29,
   "id": "76eb1705-98b6-42d4-9ab2-c7d447cb6fd5",
   "metadata": {},
   "outputs": [],
   "source": [
    "def categorize_income(income):\n",
    "    try:\n",
    "        if 0 <= income <= 30000:\n",
    "            return 'E'\n",
    "        elif 30001 <= income <= 50000:\n",
    "            return 'D'\n",
    "        elif 50001 <= income <= 200000:\n",
    "            return 'C'\n",
    "        elif 200001 <= income <= 1000000:\n",
    "            return 'B'\n",
    "        elif income >= 1000001:\n",
    "            return 'A'\n",
    "    except:\n",
    "        pass"
   ]
  },
  {
   "cell_type": "code",
   "execution_count": 30,
   "id": "4b69d96e-a54d-410f-9ae8-21f124504bb6",
   "metadata": {},
   "outputs": [],
   "source": [
    "data['total_income_category'] = data['total_income'].apply(categorize_income)"
   ]
  },
  {
   "cell_type": "markdown",
   "id": "81c2a9cb-ac05-4590-8c57-9311f74aa0a4",
   "metadata": {},
   "source": [
    "**Выведем на экран перечень уникальных целей взятия кредита из столбца `purpose`.**"
   ]
  },
  {
   "cell_type": "code",
   "execution_count": 31,
   "id": "b3e4f2f0-9f1e-4199-87b1-bbb6751f859a",
   "metadata": {},
   "outputs": [
    {
     "data": {
      "text/plain": [
       "array(['покупка жилья', 'приобретение автомобиля',\n",
       "       'дополнительное образование', 'сыграть свадьбу',\n",
       "       'операции с жильем', 'образование', 'на проведение свадьбы',\n",
       "       'покупка жилья для семьи', 'покупка недвижимости',\n",
       "       'покупка коммерческой недвижимости', 'покупка жилой недвижимости',\n",
       "       'строительство собственной недвижимости', 'недвижимость',\n",
       "       'строительство недвижимости', 'на покупку подержанного автомобиля',\n",
       "       'на покупку своего автомобиля',\n",
       "       'операции с коммерческой недвижимостью',\n",
       "       'строительство жилой недвижимости', 'жилье',\n",
       "       'операции со своей недвижимостью', 'автомобили',\n",
       "       'заняться образованием', 'сделка с подержанным автомобилем',\n",
       "       'получение образования', 'автомобиль', 'свадьба',\n",
       "       'получение дополнительного образования', 'покупка своего жилья',\n",
       "       'операции с недвижимостью', 'получение высшего образования',\n",
       "       'свой автомобиль', 'сделка с автомобилем',\n",
       "       'профильное образование', 'высшее образование',\n",
       "       'покупка жилья для сдачи', 'на покупку автомобиля', 'ремонт жилью',\n",
       "       'заняться высшим образованием'], dtype=object)"
      ]
     },
     "execution_count": 31,
     "metadata": {},
     "output_type": "execute_result"
    }
   ],
   "source": [
    "data['purpose'].unique()"
   ]
  },
  {
   "cell_type": "markdown",
   "id": "7cd7985f-e6a6-46df-857a-6ea75c436e26",
   "metadata": {},
   "source": [
    "Создадим функцию, которая на основании данных из столбца `purpose` сформирует новый столбец `purpose_category`, в который войдут следующие категории:**\n",
    "\n",
    "- `'операции с автомобилем'`,\n",
    "- `'операции с недвижимостью'`,\n",
    "- `'проведение свадьбы'`,\n",
    "- `'получение образования'`.\n",
    "\n",
    "**Например, если в столбце `purpose` находится подстрока `'на покупку автомобиля'`, то в столбце `purpose_category` должна появиться строка `'операции с автомобилем'`.**\n",
    "\n",
    "**Используем собственную функцию с именем `categorize_purpose()` и метод `apply()`. Изучим данные в столбце `purpose` и определим, какие подстроки помогут правильно определить категорию.**"
   ]
  },
  {
   "cell_type": "code",
   "execution_count": 32,
   "id": "9930b89e-ff9f-4491-9481-b4bf7278d585",
   "metadata": {},
   "outputs": [],
   "source": [
    "def categorize_purpose(row):\n",
    "    try:\n",
    "        if 'автом' in row:\n",
    "            return 'операции с автомобилем'\n",
    "        elif 'жил' in row or 'недвиж' in row:\n",
    "            return 'операции с недвижимостью'\n",
    "        elif 'свад' in row:\n",
    "            return 'проведение свадьбы'\n",
    "        elif 'образов' in row:\n",
    "            return 'получение образования'\n",
    "    except:\n",
    "        return 'нет категории'"
   ]
  },
  {
   "cell_type": "code",
   "execution_count": 33,
   "id": "0a0379f3-0073-4743-9bb0-70f07cc8de5d",
   "metadata": {},
   "outputs": [],
   "source": [
    "data['purpose_category'] = data['purpose'].apply(categorize_purpose)"
   ]
  },
  {
   "cell_type": "markdown",
   "id": "570fd568-33fd-4513-ba5f-95e211149e01",
   "metadata": {},
   "source": [
    "## 3 Определение зависимостей"
   ]
  },
  {
   "cell_type": "markdown",
   "id": "329dbc51-e3c9-4e74-b6f8-edb204d01550",
   "metadata": {},
   "source": [
    "### 3.1. Определим существует ли зависимость между количеством детей и возвратом кредита в срок"
   ]
  },
  {
   "cell_type": "markdown",
   "id": "11b039ab-8adb-4a11-8526-599ba47031f2",
   "metadata": {},
   "source": [
    "Для начала группируем данные по кол-ву детей, а в значениях выводим долги.\n",
    "Далее путем метода 'agg' считаем суммрное кол-во людей, бравших кредит 'sum', также кол-во должников -'count' и долю должников среди кредиторов - 'mean'"
   ]
  },
  {
   "cell_type": "code",
   "execution_count": 35,
   "id": "b7f1e477-750d-408f-9d78-850041a414ad",
   "metadata": {},
   "outputs": [
    {
     "data": {
      "text/html": [
       "<div>\n",
       "<style scoped>\n",
       "    .dataframe tbody tr th:only-of-type {\n",
       "        vertical-align: middle;\n",
       "    }\n",
       "\n",
       "    .dataframe tbody tr th {\n",
       "        vertical-align: top;\n",
       "    }\n",
       "\n",
       "    .dataframe thead th {\n",
       "        text-align: right;\n",
       "    }\n",
       "</style>\n",
       "<table border=\"1\" class=\"dataframe\">\n",
       "  <thead>\n",
       "    <tr style=\"text-align: right;\">\n",
       "      <th></th>\n",
       "      <th>count</th>\n",
       "      <th>sum</th>\n",
       "      <th>mean</th>\n",
       "    </tr>\n",
       "    <tr>\n",
       "      <th>children</th>\n",
       "      <th></th>\n",
       "      <th></th>\n",
       "      <th></th>\n",
       "    </tr>\n",
       "  </thead>\n",
       "  <tbody>\n",
       "    <tr>\n",
       "      <th>0</th>\n",
       "      <td>14091</td>\n",
       "      <td>1063</td>\n",
       "      <td>0.075438</td>\n",
       "    </tr>\n",
       "    <tr>\n",
       "      <th>1</th>\n",
       "      <td>4808</td>\n",
       "      <td>444</td>\n",
       "      <td>0.092346</td>\n",
       "    </tr>\n",
       "    <tr>\n",
       "      <th>2</th>\n",
       "      <td>2052</td>\n",
       "      <td>194</td>\n",
       "      <td>0.094542</td>\n",
       "    </tr>\n",
       "    <tr>\n",
       "      <th>3</th>\n",
       "      <td>330</td>\n",
       "      <td>27</td>\n",
       "      <td>0.081818</td>\n",
       "    </tr>\n",
       "    <tr>\n",
       "      <th>4</th>\n",
       "      <td>41</td>\n",
       "      <td>4</td>\n",
       "      <td>0.097561</td>\n",
       "    </tr>\n",
       "    <tr>\n",
       "      <th>5</th>\n",
       "      <td>9</td>\n",
       "      <td>0</td>\n",
       "      <td>0.000000</td>\n",
       "    </tr>\n",
       "  </tbody>\n",
       "</table>\n",
       "</div>"
      ],
      "text/plain": [
       "          count   sum      mean\n",
       "children                       \n",
       "0         14091  1063  0.075438\n",
       "1          4808   444  0.092346\n",
       "2          2052   194  0.094542\n",
       "3           330    27  0.081818\n",
       "4            41     4  0.097561\n",
       "5             9     0  0.000000"
      ]
     },
     "execution_count": 35,
     "metadata": {},
     "output_type": "execute_result"
    }
   ],
   "source": [
    "debt_children = data.groupby('children')['debt'].agg(['count','sum','mean'])\n",
    "debt_children"
   ]
  },
  {
   "cell_type": "markdown",
   "id": "34e30d8f-cab3-49d8-94bd-029f1b37d9a9",
   "metadata": {},
   "source": [
    "Далее для наглядности и простоты чтения таблицы сортируемся по убыванию столбца 'mean', а также задаем формат для столбцов 'Доля кредиторов' и 'mean' в виде процентов. Также решил сменить названия столбцов, опять же, чтобы таблица имела более наглядный и читабельный вид."
   ]
  },
  {
   "cell_type": "code",
   "execution_count": 36,
   "id": "8b22a78f-ea0a-4807-8449-9b12f11f131b",
   "metadata": {},
   "outputs": [
    {
     "data": {
      "text/html": [
       "<div>\n",
       "<style scoped>\n",
       "    .dataframe tbody tr th:only-of-type {\n",
       "        vertical-align: middle;\n",
       "    }\n",
       "\n",
       "    .dataframe tbody tr th {\n",
       "        vertical-align: top;\n",
       "    }\n",
       "\n",
       "    .dataframe thead th {\n",
       "        text-align: right;\n",
       "    }\n",
       "</style>\n",
       "<table border=\"1\" class=\"dataframe\">\n",
       "  <thead>\n",
       "    <tr style=\"text-align: right;\">\n",
       "      <th></th>\n",
       "      <th>Кол-во кредиторов</th>\n",
       "      <th>Кол-во должников</th>\n",
       "      <th>Доля должников</th>\n",
       "    </tr>\n",
       "    <tr>\n",
       "      <th>children</th>\n",
       "      <th></th>\n",
       "      <th></th>\n",
       "      <th></th>\n",
       "    </tr>\n",
       "  </thead>\n",
       "  <tbody>\n",
       "    <tr>\n",
       "      <th>4</th>\n",
       "      <td>41</td>\n",
       "      <td>4</td>\n",
       "      <td>9.76%</td>\n",
       "    </tr>\n",
       "    <tr>\n",
       "      <th>2</th>\n",
       "      <td>2052</td>\n",
       "      <td>194</td>\n",
       "      <td>9.45%</td>\n",
       "    </tr>\n",
       "    <tr>\n",
       "      <th>1</th>\n",
       "      <td>4808</td>\n",
       "      <td>444</td>\n",
       "      <td>9.23%</td>\n",
       "    </tr>\n",
       "    <tr>\n",
       "      <th>3</th>\n",
       "      <td>330</td>\n",
       "      <td>27</td>\n",
       "      <td>8.18%</td>\n",
       "    </tr>\n",
       "    <tr>\n",
       "      <th>0</th>\n",
       "      <td>14091</td>\n",
       "      <td>1063</td>\n",
       "      <td>7.54%</td>\n",
       "    </tr>\n",
       "    <tr>\n",
       "      <th>5</th>\n",
       "      <td>9</td>\n",
       "      <td>0</td>\n",
       "      <td>0.00%</td>\n",
       "    </tr>\n",
       "  </tbody>\n",
       "</table>\n",
       "</div>"
      ],
      "text/plain": [
       "          Кол-во кредиторов  Кол-во должников Доля должников\n",
       "children                                                    \n",
       "4                        41                 4          9.76%\n",
       "2                      2052               194          9.45%\n",
       "1                      4808               444          9.23%\n",
       "3                       330                27          8.18%\n",
       "0                     14091              1063          7.54%\n",
       "5                         9                 0          0.00%"
      ]
     },
     "execution_count": 36,
     "metadata": {},
     "output_type": "execute_result"
    }
   ],
   "source": [
    "debt_children = debt_children.sort_values('mean',ascending=False)\n",
    "debt_children['mean'] = debt_children['mean'].apply('{:.2%}'.format)\n",
    "debt_children = debt_children.rename(columns={'count':'Кол-во кредиторов', 'sum':'Кол-во должников', 'mean':'Доля должников'})\n",
    "debt_children\n"
   ]
  },
  {
   "cell_type": "markdown",
   "id": "5637fa77-25c0-4b4f-b708-1c5afaab7d26",
   "metadata": {},
   "source": [
    "**Вывод:** \n",
    "Исходя из полученной таблицы, можно сделать выводы, что кол-во детей влияет на закрытие кредита в срок.\n",
    "\n",
    "Наибольший показатель просроченного кредита имеют семьи с 1-2 детьми, в то время как наименьший показатель у семей без детей (Однако интересный факт, что семьи без детей берут намного чаще кредит, почти в два раза!).\n",
    "\n",
    "Также стоит отметить, что кол-во кредитов у семей с 3, 4, 5-ю детьми слишком мало (менее 2%), что, на мой взгляд, статистически не значимо. \n",
    "\n",
    "Одними из возможных причин менее низкого показателя просроченного кредита у бездетных семей являются стабильное движение потока денежных средств и меньшие затраты на жизнь."
   ]
  },
  {
   "cell_type": "markdown",
   "id": "4bf524ae-93b5-4c66-8b49-18a2806f5d3d",
   "metadata": {},
   "source": [
    "### 3.2. Определяем есть ли зависимость между семейным положением и возвратом кредита в срок"
   ]
  },
  {
   "cell_type": "markdown",
   "id": "55cf2381-0216-43be-99d7-5df9c444d666",
   "metadata": {},
   "source": [
    "Формируем такую же таблицу как и в таблице зависимости возврата кредита в срок и кол-ве детей. В данной табице группируем данные по семейному пооложению, а в значениях выводим долги."
   ]
  },
  {
   "cell_type": "code",
   "execution_count": 37,
   "id": "75fed76a-f239-4a29-88ab-3b391077e099",
   "metadata": {},
   "outputs": [
    {
     "data": {
      "text/html": [
       "<div>\n",
       "<style scoped>\n",
       "    .dataframe tbody tr th:only-of-type {\n",
       "        vertical-align: middle;\n",
       "    }\n",
       "\n",
       "    .dataframe tbody tr th {\n",
       "        vertical-align: top;\n",
       "    }\n",
       "\n",
       "    .dataframe thead th {\n",
       "        text-align: right;\n",
       "    }\n",
       "</style>\n",
       "<table border=\"1\" class=\"dataframe\">\n",
       "  <thead>\n",
       "    <tr style=\"text-align: right;\">\n",
       "      <th></th>\n",
       "      <th>count</th>\n",
       "      <th>sum</th>\n",
       "      <th>mean</th>\n",
       "    </tr>\n",
       "    <tr>\n",
       "      <th>family_status</th>\n",
       "      <th></th>\n",
       "      <th></th>\n",
       "      <th></th>\n",
       "    </tr>\n",
       "  </thead>\n",
       "  <tbody>\n",
       "    <tr>\n",
       "      <th>Не женат / не замужем</th>\n",
       "      <td>2796</td>\n",
       "      <td>273</td>\n",
       "      <td>0.097639</td>\n",
       "    </tr>\n",
       "    <tr>\n",
       "      <th>в разводе</th>\n",
       "      <td>1189</td>\n",
       "      <td>84</td>\n",
       "      <td>0.070648</td>\n",
       "    </tr>\n",
       "    <tr>\n",
       "      <th>вдовец / вдова</th>\n",
       "      <td>951</td>\n",
       "      <td>63</td>\n",
       "      <td>0.066246</td>\n",
       "    </tr>\n",
       "    <tr>\n",
       "      <th>гражданский брак</th>\n",
       "      <td>4134</td>\n",
       "      <td>385</td>\n",
       "      <td>0.093130</td>\n",
       "    </tr>\n",
       "    <tr>\n",
       "      <th>женат / замужем</th>\n",
       "      <td>12261</td>\n",
       "      <td>927</td>\n",
       "      <td>0.075606</td>\n",
       "    </tr>\n",
       "  </tbody>\n",
       "</table>\n",
       "</div>"
      ],
      "text/plain": [
       "                       count  sum      mean\n",
       "family_status                              \n",
       "Не женат / не замужем   2796  273  0.097639\n",
       "в разводе               1189   84  0.070648\n",
       "вдовец / вдова           951   63  0.066246\n",
       "гражданский брак        4134  385  0.093130\n",
       "женат / замужем        12261  927  0.075606"
      ]
     },
     "execution_count": 37,
     "metadata": {},
     "output_type": "execute_result"
    }
   ],
   "source": [
    "debt_family = data.groupby('family_status')['debt'].agg(['count','sum','mean'])\n",
    "debt_family"
   ]
  },
  {
   "cell_type": "markdown",
   "id": "556bcdb3-c46e-4887-b7c9-dc2e505223ab",
   "metadata": {},
   "source": [
    "Далее для наглядности и простоты анализа вносим изменения в названия и формат столбцов."
   ]
  },
  {
   "cell_type": "code",
   "execution_count": 38,
   "id": "ae831073-5748-4f27-b485-59d4a6754989",
   "metadata": {},
   "outputs": [
    {
     "data": {
      "text/html": [
       "<div>\n",
       "<style scoped>\n",
       "    .dataframe tbody tr th:only-of-type {\n",
       "        vertical-align: middle;\n",
       "    }\n",
       "\n",
       "    .dataframe tbody tr th {\n",
       "        vertical-align: top;\n",
       "    }\n",
       "\n",
       "    .dataframe thead th {\n",
       "        text-align: right;\n",
       "    }\n",
       "</style>\n",
       "<table border=\"1\" class=\"dataframe\">\n",
       "  <thead>\n",
       "    <tr style=\"text-align: right;\">\n",
       "      <th></th>\n",
       "      <th>Кол-во кредиторов</th>\n",
       "      <th>Кол-во должников</th>\n",
       "      <th>Доля должников</th>\n",
       "    </tr>\n",
       "    <tr>\n",
       "      <th>family_status</th>\n",
       "      <th></th>\n",
       "      <th></th>\n",
       "      <th></th>\n",
       "    </tr>\n",
       "  </thead>\n",
       "  <tbody>\n",
       "    <tr>\n",
       "      <th>Не женат / не замужем</th>\n",
       "      <td>2796</td>\n",
       "      <td>273</td>\n",
       "      <td>9.76%</td>\n",
       "    </tr>\n",
       "    <tr>\n",
       "      <th>гражданский брак</th>\n",
       "      <td>4134</td>\n",
       "      <td>385</td>\n",
       "      <td>9.31%</td>\n",
       "    </tr>\n",
       "    <tr>\n",
       "      <th>женат / замужем</th>\n",
       "      <td>12261</td>\n",
       "      <td>927</td>\n",
       "      <td>7.56%</td>\n",
       "    </tr>\n",
       "    <tr>\n",
       "      <th>в разводе</th>\n",
       "      <td>1189</td>\n",
       "      <td>84</td>\n",
       "      <td>7.06%</td>\n",
       "    </tr>\n",
       "    <tr>\n",
       "      <th>вдовец / вдова</th>\n",
       "      <td>951</td>\n",
       "      <td>63</td>\n",
       "      <td>6.62%</td>\n",
       "    </tr>\n",
       "  </tbody>\n",
       "</table>\n",
       "</div>"
      ],
      "text/plain": [
       "                       Кол-во кредиторов  Кол-во должников Доля должников\n",
       "family_status                                                            \n",
       "Не женат / не замужем               2796               273          9.76%\n",
       "гражданский брак                    4134               385          9.31%\n",
       "женат / замужем                    12261               927          7.56%\n",
       "в разводе                           1189                84          7.06%\n",
       "вдовец / вдова                       951                63          6.62%"
      ]
     },
     "execution_count": 38,
     "metadata": {},
     "output_type": "execute_result"
    }
   ],
   "source": [
    "debt_family = debt_family.sort_values('mean',ascending=False)\n",
    "debt_family['mean'] = debt_family['mean'].apply('{:0.2%}'.format)\n",
    "debt_family = debt_family.rename(columns={'count':'Кол-во кредиторов','sum':'Кол-во должников','mean':'Доля должников'})\n",
    "debt_family"
   ]
  },
  {
   "cell_type": "markdown",
   "id": "7eaeff20-7686-4b1b-8548-4b02d12c2b47",
   "metadata": {},
   "source": [
    "**Вывод:** \n",
    "Честно сказать, я удивлен результатом зависимости. Люди из категории 'Не женат / не замужем' имеют наивысший процент должников, в то время как люди, которые когда либо создавали семью имеют меньше всего задолжностей. Что значит, зависимость между семейным положением и возвратом кредита в срок есть.\n",
    "\n",
    "На мой взгляд, люди, которые когда либо имели семью более грамотно подходят к распределению финансов, что объясняется опытом в распределнии бюджета и отвественностью перед близкими людьми. В то время, как одинокие люди могут более свободно обращаться со своими финансами и несут отвественность только за себя, также стоит отметить, что люди из категории 'Не женат/не замужем' это по большей части молодые люди, которые на данный момент только приступили к рабочей деятельности, имеют не высокую заработную плату и не опытны в распределении своих финансов.\n",
    "\n",
    "Однако одна группа, меня смущает, это - 'гражданский брак'. В этой категории довольно высокий процент задолженности, что противоречит выводу об ответственности перед семьей. Погрузившись в тему гражданского брака (просмотрев статьи в интернете), обнаружил, что люди в данном положении: \"Не ощущают прочности данного положения, серьезности отношений\", что значит люди менее отвественны перед друг другом и свободно обращаются со своими финансами в отличии от истинного брака. "
   ]
  },
  {
   "cell_type": "markdown",
   "id": "6b86d395-7d2c-4691-95a6-2f0dc75a5b52",
   "metadata": {},
   "source": [
    "### 3.3. Определяем зависимость между уровнем дохода и возвратом кредита в срок"
   ]
  },
  {
   "cell_type": "markdown",
   "id": "4993313d-d435-4983-ada8-fd9e24b794a2",
   "metadata": {},
   "source": [
    "Формируем таблицу с такими же столбцами, как и в предыдущих таблицах зависимостей, однако здесь группируем данные по столбцу, сформированную по функции 'categorize_income' "
   ]
  },
  {
   "cell_type": "code",
   "execution_count": 41,
   "id": "407b4161-5a17-4cef-a38d-7d364ae557da",
   "metadata": {},
   "outputs": [
    {
     "data": {
      "text/html": [
       "<div>\n",
       "<style scoped>\n",
       "    .dataframe tbody tr th:only-of-type {\n",
       "        vertical-align: middle;\n",
       "    }\n",
       "\n",
       "    .dataframe tbody tr th {\n",
       "        vertical-align: top;\n",
       "    }\n",
       "\n",
       "    .dataframe thead th {\n",
       "        text-align: right;\n",
       "    }\n",
       "</style>\n",
       "<table border=\"1\" class=\"dataframe\">\n",
       "  <thead>\n",
       "    <tr style=\"text-align: right;\">\n",
       "      <th></th>\n",
       "      <th>count</th>\n",
       "      <th>sum</th>\n",
       "      <th>mean</th>\n",
       "    </tr>\n",
       "    <tr>\n",
       "      <th>total_income_category</th>\n",
       "      <th></th>\n",
       "      <th></th>\n",
       "      <th></th>\n",
       "    </tr>\n",
       "  </thead>\n",
       "  <tbody>\n",
       "    <tr>\n",
       "      <th>A</th>\n",
       "      <td>25</td>\n",
       "      <td>2</td>\n",
       "      <td>0.080000</td>\n",
       "    </tr>\n",
       "    <tr>\n",
       "      <th>B</th>\n",
       "      <td>5014</td>\n",
       "      <td>354</td>\n",
       "      <td>0.070602</td>\n",
       "    </tr>\n",
       "    <tr>\n",
       "      <th>C</th>\n",
       "      <td>15921</td>\n",
       "      <td>1353</td>\n",
       "      <td>0.084982</td>\n",
       "    </tr>\n",
       "    <tr>\n",
       "      <th>D</th>\n",
       "      <td>349</td>\n",
       "      <td>21</td>\n",
       "      <td>0.060172</td>\n",
       "    </tr>\n",
       "    <tr>\n",
       "      <th>E</th>\n",
       "      <td>22</td>\n",
       "      <td>2</td>\n",
       "      <td>0.090909</td>\n",
       "    </tr>\n",
       "  </tbody>\n",
       "</table>\n",
       "</div>"
      ],
      "text/plain": [
       "                       count   sum      mean\n",
       "total_income_category                       \n",
       "A                         25     2  0.080000\n",
       "B                       5014   354  0.070602\n",
       "C                      15921  1353  0.084982\n",
       "D                        349    21  0.060172\n",
       "E                         22     2  0.090909"
      ]
     },
     "execution_count": 41,
     "metadata": {},
     "output_type": "execute_result"
    }
   ],
   "source": [
    "debt_income = data.groupby('total_income_category')['debt'].agg(['count','sum','mean'])\n",
    "debt_income"
   ]
  },
  {
   "cell_type": "markdown",
   "id": "112674de-d17a-42db-94cc-67b73e9fbe1f",
   "metadata": {},
   "source": [
    "Корректируем форматы и меняем названия столбцов для простоты и наглядности таблицы. Также добавляем подпись в виде расшифровки категории)"
   ]
  },
  {
   "cell_type": "code",
   "execution_count": 42,
   "id": "51e71f9f-41ee-4661-b7a3-b45e76b4275c",
   "metadata": {},
   "outputs": [
    {
     "name": "stdout",
     "output_type": "stream",
     "text": [
      "                       Кол-во кредиторов  Кол-во должников Доля должников\n",
      "total_income_category                                                    \n",
      "E                                     22                 2          9.09%\n",
      "C                                  15921              1353          8.50%\n",
      "A                                     25                 2          8.00%\n",
      "B                                   5014               354          7.06%\n",
      "D                                    349                21          6.02% \n",
      "\n",
      "Обозначения категорий\n",
      "0–30000 — E \n",
      "30001–50000 — D \n",
      "50001–200000 — C \n",
      "200001–1000000 — B \n",
      "1000001 и выше — A\n"
     ]
    }
   ],
   "source": [
    "debt_income = debt_income.sort_values('mean',ascending=False)\n",
    "debt_income['mean'] = debt_income['mean'].apply('{:0.2%}'.format)\n",
    "debt_income = debt_income.rename(columns={'count':'Кол-во кредиторов','sum':'Кол-во должников','mean':'Доля должников'})\n",
    "\n",
    "print(debt_income,'''\n",
    "\n",
    "Обозначения категорий\n",
    "0–30000 — E \n",
    "30001–50000 — D \n",
    "50001–200000 — C \n",
    "200001–1000000 — B \n",
    "1000001 и выше — A''')"
   ]
  },
  {
   "cell_type": "markdown",
   "id": "23b2a173-c5ca-4863-a6b3-54d398e7f8f9",
   "metadata": {},
   "source": [
    "**Вывод:** \n",
    "Исходя из итоговой таблицы, я пришел к неоднозначному выводу.\n",
    "\n",
    "Наибольший процент должников у группы E, однако людей, взявших кредит у группы A и E настолько мало, что их нельзя счиатать статистичиски значимым, так как их количество колоссально маленькое по сравнению с другими категориями. Возможно это связано с тем, что люди с низким доходом, попросту не смогут покрыть кредит и принимают решение не брать его вовсе, в то время как, люди с наивысшим доходом попросту не нуждаются в заеме денежных средств. Группа D тоже, на мой взгляд слишком мала, чтобы включать её в выборку.\n",
    "\n",
    "Однако, если рассматривать другие категории, то можно сделать вывод, что с ростом дохода уменьшается доля должников. Стоит отметить, что уменьшается, как доля должников, так и кол-во людей, взявших в кредит в целом. \n",
    "Возможно у группы людей B, что близка к наивысшему доходу, более крупные суммы свободных денег, которые и идут на покрытие кредита."
   ]
  },
  {
   "cell_type": "markdown",
   "id": "83c83d49-476a-46a1-b9ac-9a77b0d3fe71",
   "metadata": {},
   "source": [
    "### 3.4 Как разные цели кредита влияют на его возврат в срок?"
   ]
  },
  {
   "cell_type": "markdown",
   "id": "ec5be1cc-91c9-490e-a09b-e0e49e188cf5",
   "metadata": {},
   "source": [
    "Формируем таблицу с такими же столбцами, как и в предыдущих таблицах зависимостей, однако здесь группируем данные по столбцу, сформированную по функции 'categorize_purpose'"
   ]
  },
  {
   "cell_type": "code",
   "execution_count": 43,
   "id": "a5c9954c-db85-43a9-971c-aefb9a377488",
   "metadata": {},
   "outputs": [
    {
     "data": {
      "text/html": [
       "<div>\n",
       "<style scoped>\n",
       "    .dataframe tbody tr th:only-of-type {\n",
       "        vertical-align: middle;\n",
       "    }\n",
       "\n",
       "    .dataframe tbody tr th {\n",
       "        vertical-align: top;\n",
       "    }\n",
       "\n",
       "    .dataframe thead th {\n",
       "        text-align: right;\n",
       "    }\n",
       "</style>\n",
       "<table border=\"1\" class=\"dataframe\">\n",
       "  <thead>\n",
       "    <tr style=\"text-align: right;\">\n",
       "      <th></th>\n",
       "      <th>count</th>\n",
       "      <th>sum</th>\n",
       "      <th>mean</th>\n",
       "    </tr>\n",
       "    <tr>\n",
       "      <th>purpose_category</th>\n",
       "      <th></th>\n",
       "      <th></th>\n",
       "      <th></th>\n",
       "    </tr>\n",
       "  </thead>\n",
       "  <tbody>\n",
       "    <tr>\n",
       "      <th>операции с автомобилем</th>\n",
       "      <td>4279</td>\n",
       "      <td>400</td>\n",
       "      <td>0.093480</td>\n",
       "    </tr>\n",
       "    <tr>\n",
       "      <th>операции с недвижимостью</th>\n",
       "      <td>10751</td>\n",
       "      <td>780</td>\n",
       "      <td>0.072551</td>\n",
       "    </tr>\n",
       "    <tr>\n",
       "      <th>получение образования</th>\n",
       "      <td>3988</td>\n",
       "      <td>369</td>\n",
       "      <td>0.092528</td>\n",
       "    </tr>\n",
       "    <tr>\n",
       "      <th>проведение свадьбы</th>\n",
       "      <td>2313</td>\n",
       "      <td>183</td>\n",
       "      <td>0.079118</td>\n",
       "    </tr>\n",
       "  </tbody>\n",
       "</table>\n",
       "</div>"
      ],
      "text/plain": [
       "                          count  sum      mean\n",
       "purpose_category                              \n",
       "операции с автомобилем     4279  400  0.093480\n",
       "операции с недвижимостью  10751  780  0.072551\n",
       "получение образования      3988  369  0.092528\n",
       "проведение свадьбы         2313  183  0.079118"
      ]
     },
     "execution_count": 43,
     "metadata": {},
     "output_type": "execute_result"
    }
   ],
   "source": [
    "debt_purpose = data.groupby('purpose_category')['debt'].agg(['count','sum','mean'])\n",
    "debt_purpose"
   ]
  },
  {
   "cell_type": "markdown",
   "id": "a96488eb-1456-4123-baf7-9cda7b30b6ac",
   "metadata": {},
   "source": [
    "Корректируем форматы и меняем названия столбцов для простоты и наглядности таблицы."
   ]
  },
  {
   "cell_type": "code",
   "execution_count": 44,
   "id": "86e6641f-33cb-472c-b9f8-2f08411874c8",
   "metadata": {},
   "outputs": [
    {
     "data": {
      "text/html": [
       "<div>\n",
       "<style scoped>\n",
       "    .dataframe tbody tr th:only-of-type {\n",
       "        vertical-align: middle;\n",
       "    }\n",
       "\n",
       "    .dataframe tbody tr th {\n",
       "        vertical-align: top;\n",
       "    }\n",
       "\n",
       "    .dataframe thead th {\n",
       "        text-align: right;\n",
       "    }\n",
       "</style>\n",
       "<table border=\"1\" class=\"dataframe\">\n",
       "  <thead>\n",
       "    <tr style=\"text-align: right;\">\n",
       "      <th></th>\n",
       "      <th>Кол-во кредиторов</th>\n",
       "      <th>Кол-во должников</th>\n",
       "      <th>Доля должников</th>\n",
       "    </tr>\n",
       "    <tr>\n",
       "      <th>purpose_category</th>\n",
       "      <th></th>\n",
       "      <th></th>\n",
       "      <th></th>\n",
       "    </tr>\n",
       "  </thead>\n",
       "  <tbody>\n",
       "    <tr>\n",
       "      <th>операции с автомобилем</th>\n",
       "      <td>4279</td>\n",
       "      <td>400</td>\n",
       "      <td>9.35%</td>\n",
       "    </tr>\n",
       "    <tr>\n",
       "      <th>получение образования</th>\n",
       "      <td>3988</td>\n",
       "      <td>369</td>\n",
       "      <td>9.25%</td>\n",
       "    </tr>\n",
       "    <tr>\n",
       "      <th>проведение свадьбы</th>\n",
       "      <td>2313</td>\n",
       "      <td>183</td>\n",
       "      <td>7.91%</td>\n",
       "    </tr>\n",
       "    <tr>\n",
       "      <th>операции с недвижимостью</th>\n",
       "      <td>10751</td>\n",
       "      <td>780</td>\n",
       "      <td>7.26%</td>\n",
       "    </tr>\n",
       "  </tbody>\n",
       "</table>\n",
       "</div>"
      ],
      "text/plain": [
       "                          Кол-во кредиторов  Кол-во должников Доля должников\n",
       "purpose_category                                                            \n",
       "операции с автомобилем                 4279               400          9.35%\n",
       "получение образования                  3988               369          9.25%\n",
       "проведение свадьбы                     2313               183          7.91%\n",
       "операции с недвижимостью              10751               780          7.26%"
      ]
     },
     "execution_count": 44,
     "metadata": {},
     "output_type": "execute_result"
    }
   ],
   "source": [
    "debt_purpose = debt_purpose.sort_values('mean',ascending=False)\n",
    "debt_purpose['mean'] = debt_purpose['mean'].apply('{:0.2%}'.format)\n",
    "debt_purpose = debt_purpose.rename(columns={'count':'Кол-во кредиторов','sum':'Кол-во должников','mean':'Доля должников'})\n",
    "debt_purpose"
   ]
  },
  {
   "cell_type": "markdown",
   "id": "06234260-9d64-4217-9bca-d217e0b991ab",
   "metadata": {},
   "source": [
    "**Вывод:** \n",
    "Самые низкие показатели должников по кредитам являются группы: 'проведение свадьбы '/'операции с недвижимостью'.\n",
    "Безусловно люди, которые проводят свадьбу, имеют малые задолженности, так как в честь праздника, обычно подарком являются деньги для новоиспеченной семьи, что покрывает кредит самой свадьбы. \n",
    "\n",
    "Далее одним из возможных вариантов движения подарочных свадебных денег будет покупка квартиры или первоначальный взнос, что уменьшает сумму кредита. Также низким процентом задолженности по операциям с недвижимостью может быть высокий доход кредитора, так как квартиры покупают обычно уже состоятельные люди) "
   ]
  },
  {
   "cell_type": "markdown",
   "id": "f7ad3f92-876c-4327-a572-10002b07d563",
   "metadata": {},
   "source": [
    "### 3.5 Возможные причины появления пропусков в исходных данных."
   ]
  },
  {
   "cell_type": "markdown",
   "id": "d679e309-815c-49b8-a5f6-922e261284b3",
   "metadata": {},
   "source": [
    "**Ответ:**\n",
    "Возможными причинами в появлении пропусков в исходных данных могут быть:\n",
    "\n",
    "1) ошибки при вводе данных\n",
    "\n",
    "2) ошибки системы (банальные сбои)\n",
    "\n",
    "3) неправильный формат данных\n",
    "\n",
    "4) сокрытие информации.\n",
    "\n",
    "\n",
    "На примере данных этого проекта, нашел ошибки:\n",
    "\n",
    "\n",
    "1) Неправильно заполнение уровня доходов (Пример: 100.000, 100 000, 100 000,00, 100 000р)\n",
    "\n",
    "2) Отстутвие данных или сокрытие, в случае с пенсионером с индексом 12 это пропуск в 'total_income' и 'days_employed' (Однако при выводе 30 строк исходных данных, рассматривая данного  пенсионера, появляются данные о доходе и кол-ве дней, если кол-во дней я понимаю, что некорректные данные - 932 года, врядли столько кто-то проработает, то столбец доход уже вызывает вопросы).\n"
   ]
  },
  {
   "cell_type": "markdown",
   "id": "6e26aca0-2e98-46dc-924a-e8516c9d0156",
   "metadata": {},
   "source": [
    "3.6 Причины заполния пропусков медианным значением для количественных переменных."
   ]
  },
  {
   "cell_type": "markdown",
   "id": "ca853798-22c7-4408-9785-ddbf28674ada",
   "metadata": {},
   "source": [
    "**Ответ:** Заполнять пропуски медианным значением для количественных переменных является лучшим решением, так как в выборке могут быть аномальные данные.\n",
    "\n",
    "Рассмотрим пример: \n",
    "Необходимо вычислить ср. рост в 6 \"Б\" классе. Допустим, у нас малое количество учеников в классе (школа в деревне) и состоит из 7 человек.\n",
    "Рост семи человек: 150, 152, 155, 160, 154, 190(второгодка), 152.\n",
    "\n",
    "Арифм. ср. в данном случае будет - 159 (почти 160 см!, хотя в классе всего 2 из 7 достигли этой отметки)\n",
    "\n",
    "Медианное значение - 154 (уже больше похоже на правду).\n",
    "\n",
    "В данном примере разница в 5 сантиметров, однако если брать примеры с заработными платами, где разброс может быть еще больше так как оплата группы специалистов и 1-2 руководящих должностей сильно разнятся, среднее значение будет некорректным."
   ]
  },
  {
   "cell_type": "code",
   "execution_count": 46,
   "id": "9a5934bc-befb-4685-b6a8-487ce4b04729",
   "metadata": {},
   "outputs": [
    {
     "data": {
      "image/png": "[encoded data removed]",
      "text/plain": [
       "<Figure size 1500x500 with 1 Axes>"
      ]
     },
     "metadata": {},
     "output_type": "display_data"
    }
   ],
   "source": [
    "    import matplotlib.pyplot as plt\n",
    "\n",
    "    plt.figure(figsize = (15,5))\n",
    "\n",
    "    ax = data['days_employed'].hist(bins = 40)\n",
    "\n",
    "    ax.axvline(x = data['days_employed'].mean(), color = 'r', linestyle = 'dashed', label = 'mean')\n",
    "    ax.axvline(x = data['days_employed'].median(), color = 'y', linestyle = 'dashed', label = 'median')\n",
    "    plt.legend()\n",
    "    plt.title('Гистограмма по столбцу days_employed с медианой и средним')\n",
    "    plt.xlabel('Количество отработанных дней')\n",
    "    plt.show()"
   ]
  },
  {
   "cell_type": "markdown",
   "id": "eab11eb8-1ecc-4b83-a9ea-00525da8b753",
   "metadata": {},
   "source": [
    "### 4. Общий вывод."
   ]
  },
  {
   "cell_type": "markdown",
   "id": "f3839472-6636-4c69-a01d-95278a071793",
   "metadata": {},
   "source": [
    "Подводя итог, получив входные данные о статистике платёжеспособности клиентов, столкнулся с некоторыми трудностями в проведении исследования. В первую очередь, стоит обратить внимание на пропуски в таких столбцах как 'total_income', 'days_employed'. Отсутсвие данных не позволяет качественно оценить зависимости, что в полседствии может привести к некорректной работе кредитного скоринга, в данном случае заполнил пропуски медианным значением. В исходных данных также есть дубликаты, что затягивает процесс исследования. Особое внимание стоит уделить категоризации данных, в нашем случае столбцы 'purpose' и 'total_income' имеют огромное кол-во схожих значений, что усложняет и увеличивает процесс обработки данных, разбив данные на категории изначально, это ускорило бы работу. Также в статистике платёжеспособности клиентов есть аномальные данные в столбце 'days_employed', что опять же может привести к некорректному рез-ту.\n",
    "\n",
    "\n",
    "В ходе работы, проверили две гипотезы: \n",
    "\n",
    "1) Зависит ли семейное положение на факт погашения кредита в срок.\n",
    "\n",
    "Первая гипотеза полностью подтвердилась, люди имеющие когда либо семью, как правило закрывают кредит в срок.\n",
    "\n",
    "2) Влияет ли количество детей на факт погашения кредита в срок.\n",
    "\n",
    "Вторая гипотеза также подтвердилась, люди имеющие 2-детей реже закрыват кредиты без задолжностей, чем люди имеющие 1 ребенка в семье. В то же время, разница между людьми не имеющими детей и имеющими 1 ребенка - 1,69%, людей не обладающими детьми меньше.\n",
    "\n",
    "\n",
    "В ходе проекта, мне удалось выяснить, что уровень дохода неоднозначно влияет на погашение кредита в срок, так как людей с наименьшим доходом и нивысшим попросту мало, что скорее всего объясняется их возможностями по кредиту. Однако если рассматривать людей со средним доходом и выше среднего, то здесь явно наблюдается тенденция закрытия кредита в срок с увеличением прибыли.\n",
    "\n",
    "Также, в зависимости целей кредита и закрытия его в срок, наблюдаются явные фавориты и аутсайдеры. Доля людей, просрочивших кредит на свадьбу и недвижимость, меньше чем кредиторов по покупке авто и образования.\n",
    "\n",
    "\n",
    "В дальнешем при вводе данных о целях и доходах, рекоммендую использовать список, чтобы кредитор мог остановить свой выбор на определенной категории, что сильно ускорило бы работу специалистов по обработке данных и упрощало бы вывод результатов. При оценке возможности клиента вернуть кредит банку в срок, в первую очередь стоит обращать внимание на цели кредита и семейное положение, так как здесь прослеживаются наиболиче явные тенденции. Целями наиболее рискованных кредитов являются: операции с автомобилем и получение образования, в то же самое время доля клиентов с не уплатой в срок кредитов на свадьбу и недвижимость меньше. Что касается семейного положения, люди состоящие в гражданском браке или вовсе не имеющие семью более склоны к задолженности по кредиту, чем лица, состоящие когда - либо в браке. Далее стоит учитывать кол-во детей в семье, здесь можно проследить зависимость: Чем меньше детей, тем меньше доля должников по кредиту."
   ]
  }
 ],
 "metadata": {
  "kernelspec": {
   "display_name": "Python 3 (ipykernel)",
   "language": "python",
   "name": "python3"
  },
  "language_info": {
   "codemirror_mode": {
    "name": "ipython",
    "version": 3
   },
   "file_extension": ".py",
   "mimetype": "text/x-python",
   "name": "python",
   "nbconvert_exporter": "python",
   "pygments_lexer": "ipython3",
   "version": "3.11.7"
  }
 },
 "nbformat": 4,
 "nbformat_minor": 5
}
